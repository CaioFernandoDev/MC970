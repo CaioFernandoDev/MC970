{
  "cells": [
    {
      "cell_type": "markdown",
      "metadata": {
        "id": "CeBUmTwyWjUx"
      },
      "source": [
        "## Load environment and check for folder"
      ]
    },
    {
      "cell_type": "code",
      "execution_count": null,
      "metadata": {
        "colab": {
          "base_uri": "https://localhost:8080/"
        },
        "id": "zga4WSdQWnn5",
        "outputId": "0b9eb0c7-2afc-469e-df9a-207fc60b75b7"
      },
      "outputs": [],
      "source": [
        "from google.colab import drive\n",
        "drive.mount('/content/gdrive')"
      ]
    },
    {
      "cell_type": "code",
      "execution_count": null,
      "metadata": {
        "colab": {
          "base_uri": "https://localhost:8080/"
        },
        "id": "QDNBh5rrWjU2",
        "outputId": "0b00a28d-3ccb-4532-8fb2-fe048299d576"
      },
      "outputs": [],
      "source": [
        "import subprocess\n",
        "import os\n",
        "base_dir = \"/content/gdrive/MyDrive/cuda-exercises-01\"\n",
        "get_ipython().run_line_magic('cd', base_dir)\n",
        "\n",
        "# assert that we have 01-MatSum and 02-Histogram in current folder\n",
        "assert '01-MatSum' in os.listdir(), \"01-MatSum folder not found\"\n",
        "assert '02-Histogram' in os.listdir(), \"02-Histogram folder not found\"\n"
      ]
    },
    {
      "cell_type": "markdown",
      "metadata": {
        "id": "6aeG0AxTWjU6"
      },
      "source": [
        "# Exercise 01"
      ]
    },
    {
      "cell_type": "code",
      "execution_count": null,
      "metadata": {
        "colab": {
          "base_uri": "https://localhost:8080/"
        },
        "id": "5eWB7sG1WjVA",
        "outputId": "796b4d13-df23-4742-fcea-0fbf75560ebb"
      },
      "outputs": [],
      "source": [
        "# set exercise path\n",
        "exercise_dir = \"01-MatSum\"\n",
        "exercise_dir = os.path.join(base_dir, exercise_dir)\n",
        "\n",
        "# Function to run shell commands in a specific directory\n",
        "def run_command(command, work_dir):\n",
        "    return subprocess.run(command, shell=True, cwd=work_dir, text=True, stdout=subprocess.PIPE, stderr=subprocess.PIPE)\n",
        "\n",
        "# Create and prepare the build directory\n",
        "cmd_return = run_command('cmake -E remove -f build', exercise_dir)\n",
        "print(f\"Cmake output:\\n{cmd_return.stdout}\")\n",
        "\n",
        "if cmd_return.returncode != 0:\n",
        "    print(f\"Cmake failed with error:\\n{cmd_return.stderr}\")\n",
        "    assert False\n",
        "\n",
        "run_command('cmake -E make_directory build', exercise_dir)\n",
        "cmd_return = run_command('cmake ../ -DCMAKE_BUILD_TYPE=Release', os.path.join(exercise_dir, 'build'))\n",
        "print(f\"Cmake output:\\n{cmd_return.stdout}\")\n",
        "\n",
        "if cmd_return.returncode != 0:\n",
        "    print(f\"Cmake failed with error:\\n{cmd_return.stderr}\")\n",
        "    assert False\n",
        "\n",
        "# Compile the programs\n",
        "cmd_return = run_command('make', os.path.join(exercise_dir, 'build'))\n",
        "print(f\"Compilation output:\\n{cmd_return.stdout}\")\n",
        "\n",
        "if cmd_return.returncode != 0:\n",
        "    print(f\"Compilation failed with error:\\n{cmd_return.stderr}\")\n",
        "    assert False\n",
        "\n",
        "# Execute tests and collect outputs\n",
        "for i in range(1, 6):\n",
        "    test_input = f\"tests/{i}.in\"\n",
        "    parallel_output = f\"parallel.{i}.out\"\n",
        "    serial_output = f\"serial.{i}.out\"\n",
        "    parallel_time = f\"parallel.{i}.time\"\n",
        "    serial_time = f\"serial.{i}.time\"\n",
        "\n",
        "\n",
        "    # Workaround for GDrive permissions\n",
        "    subprocess.run(f\"chmod 755 ./parallel\", shell=True, cwd=os.path.join(exercise_dir, 'build'))\n",
        "    subprocess.run(f\"chmod 755 ./serial\", shell=True, cwd=os.path.join(exercise_dir, 'build'))\n",
        "\n",
        "    # Run parallel and serial programs\n",
        "    subprocess.run(f\"./parallel ../{test_input} > {parallel_output} 2> {parallel_time}\", shell=True, cwd=os.path.join(exercise_dir, 'build'))\n",
        "    subprocess.run(f\"./serial ../{test_input} > {serial_output} 2> {serial_time}\", shell=True, cwd=os.path.join(exercise_dir, 'build'))\n",
        "\n",
        "    # Compare outputs and calculate speedup\n",
        "    diff_result = subprocess.run(f\"diff {serial_output} {parallel_output}\", shell=True, cwd=os.path.join(exercise_dir, 'build'), stderr=subprocess.PIPE)\n",
        "    diff_status = diff_result.returncode\n",
        "\n",
        "    # Read timings and calculate speedup\n",
        "    with open(os.path.join(exercise_dir, 'build', serial_time), 'r') as f:\n",
        "        serial_runtime = float(f.read().strip())\n",
        "\n",
        "    test_status = \"[CORRECT OUTPUT]\" if diff_status == 0 else \"[INCORRECT OUTPUT]\"\n",
        "\n",
        "    # Read parallel runtime only if the output is correct\n",
        "    if diff_status == 0:\n",
        "        with open(os.path.join(exercise_dir, 'build', parallel_time), 'r') as f:\n",
        "            parallel_runtime = float(f.read().strip())\n",
        "        speedup = serial_runtime / parallel_runtime if parallel_runtime > 0 else float('inf')\n",
        "        print(f\"Test {i}: {test_status} Serial time = {serial_runtime}s, Parallel time = {parallel_runtime}s, Speedup = {speedup:.4f}x\\n\")\n",
        "\n",
        "    else:\n",
        "        print(f\"Test {i}: {test_status} Serial time = {serial_runtime}s, Parallel time = --, Speedup = --\")\n",
        "        print(f\"Diff output: {diff_result.stderr}\\n\\n\")"
      ]
    },
    {
      "cell_type": "markdown",
      "metadata": {},
      "source": [
        "## Exercise 02"
      ]
    },
    {
      "cell_type": "code",
      "execution_count": null,
      "metadata": {
        "colab": {
          "base_uri": "https://localhost:8080/"
        },
        "id": "ZbRx8HWnWjVF",
        "outputId": "53f81d1e-441f-437c-8eeb-ed907c38fdcb"
      },
      "outputs": [],
      "source": [
        "# set exercise path\n",
        "exercise_dir = \"02-Histogram\"\n",
        "exercise_dir = os.path.join(base_dir, exercise_dir)\n",
        "\n",
        "# Function to run shell commands in a specific directory\n",
        "def run_command(command, work_dir):\n",
        "    return subprocess.run(command, shell=True, cwd=work_dir, text=True, stdout=subprocess.PIPE, stderr=subprocess.PIPE)\n",
        "\n",
        "# Create and prepare the build directory\n",
        "cmd_return = run_command('cmake -E remove -f build', exercise_dir)\n",
        "print(f\"Cmake output:\\n{cmd_return.stdout}\")\n",
        "\n",
        "if cmd_return.returncode != 0:\n",
        "    print(f\"Cmake failed with error:\\n{cmd_return.stderr}\")\n",
        "    assert False\n",
        "\n",
        "run_command('cmake -E make_directory build', exercise_dir)\n",
        "cmd_return = run_command('cmake ../ -DCMAKE_BUILD_TYPE=Release', os.path.join(exercise_dir, 'build'))\n",
        "print(f\"Cmake output:\\n{cmd_return.stdout}\")\n",
        "\n",
        "if cmd_return.returncode != 0:\n",
        "    print(f\"Cmake failed with error:\\n{cmd_return.stderr}\")\n",
        "    assert False\n",
        "\n",
        "# Compile the programs\n",
        "cmd_return = run_command('make', os.path.join(exercise_dir, 'build'))\n",
        "print(f\"Compilation output:\\n{cmd_return.stdout}\")\n",
        "\n",
        "if cmd_return.returncode != 0:\n",
        "    print(f\"Compilation failed with error:\\n{cmd_return.stderr}\")\n",
        "    assert False\n",
        "\n",
        "# Execute tests and collect outputs\n",
        "for i in range(1, 6):\n",
        "    test_input = f\"tests/{i}.in\"\n",
        "    parallel_output = f\"parallel.{i}.out\"\n",
        "    serial_output = f\"serial.{i}.out\"\n",
        "    parallel_time = f\"parallel.{i}.time\"\n",
        "    serial_time = f\"serial.{i}.time\"\n",
        "\n",
        "    # Workaround for GDrive permissions\n",
        "    subprocess.run(f\"chmod 755 ./parallel\", shell=True, cwd=os.path.join(exercise_dir, 'build'))\n",
        "    subprocess.run(f\"chmod 755 ./serial\", shell=True, cwd=os.path.join(exercise_dir, 'build'))\n",
        "\n",
        "    # Run parallel and serial programs\n",
        "    subprocess.run(f\"./parallel ../{test_input} > {parallel_output} 2> {parallel_time}\", shell=True, cwd=os.path.join(exercise_dir, 'build'))\n",
        "    subprocess.run(f\"./serial ../{test_input} > {serial_output} 2> {serial_time}\", shell=True, cwd=os.path.join(exercise_dir, 'build'))\n",
        "\n",
        "    # Compare outputs and calculate speedup\n",
        "    diff_result = subprocess.run(f\"diff {serial_output} {parallel_output}\", shell=True, cwd=os.path.join(exercise_dir, 'build'), stderr=subprocess.PIPE)\n",
        "    diff_status = diff_result.returncode\n",
        "\n",
        "    # Read timings and calculate speedup\n",
        "    with open(os.path.join(exercise_dir, 'build', serial_time), 'r') as f:\n",
        "        serial_runtime = float(f.read().strip())\n",
        "\n",
        "    test_status = \"[CORRECT OUTPUT]\" if diff_status == 0 else \"[INCORRECT OUTPUT]\"\n",
        "\n",
        "    # Read parallel runtime only if the output is correct\n",
        "    if diff_status == 0:\n",
        "        with open(os.path.join(exercise_dir, 'build', parallel_time), 'r') as f:\n",
        "            parallel_runtime = float(f.read().strip())\n",
        "        speedup = serial_runtime / parallel_runtime if parallel_runtime > 0 else float('inf')\n",
        "        print(f\"Test {i}: {test_status} Serial time = {serial_runtime}s, Parallel time = {parallel_runtime}s, Speedup = {speedup:.4f}x\\n\")\n",
        "\n",
        "    else:\n",
        "        print(f\"Test {i}: {test_status} Serial time = {serial_runtime}s, Parallel time = --, Speedup = --\")\n",
        "        print(f\"Diff output: {diff_result.stderr}\\n\\n\")"
      ]
    }
  ],
  "metadata": {
    "colab": {
      "provenance": []
    },
    "kernelspec": {
      "display_name": ".venv",
      "language": "python",
      "name": "python3"
    },
    "language_info": {
      "codemirror_mode": {
        "name": "ipython",
        "version": 3
      },
      "file_extension": ".py",
      "mimetype": "text/x-python",
      "name": "python",
      "nbconvert_exporter": "python",
      "pygments_lexer": "ipython3",
      "version": "3.11.8"
    }
  },
  "nbformat": 4,
  "nbformat_minor": 0
}
